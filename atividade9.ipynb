{
 "cells": [
  {
   "cell_type": "code",
   "execution_count": 1,
   "id": "184fe539-d542-4db3-ac07-2c731350f40f",
   "metadata": {},
   "outputs": [],
   "source": [
    "import sys\n",
    "import os\n",
    "import yaml\n",
    "from dataclasses import asdict\n",
    "\n",
    "sys.path.append(\"./CLAP\")\n",
    "current_dir = os.getcwd()"
   ]
  },
  {
   "cell_type": "code",
   "execution_count": 2,
   "id": "25c40607-c105-449d-a08c-362b74734ef6",
   "metadata": {},
   "outputs": [],
   "source": [
    "mo833_nome_do_usuario = \"mo833-2022-manuel\" # Modifique esta variável com o seu usuário de nuvem mo833-..."
   ]
  },
  {
   "cell_type": "code",
   "execution_count": 3,
   "id": "34784318-5769-42e0-9294-ec3e035ebd69",
   "metadata": {},
   "outputs": [],
   "source": [
    "from app.cli.modules.node import get_config_db, get_node_manager\n",
    "from app.cli.modules.role import get_role_manager\n",
    "from app.cli.modules.cluster import get_cluster_config_db, get_cluster_manager\n",
    "from clap.utils import float_time_to_string"
   ]
  },
  {
   "cell_type": "code",
   "execution_count": 4,
   "id": "f7ab1fcf-d57c-42ee-921f-b3bc799a72e6",
   "metadata": {},
   "outputs": [],
   "source": [
    "instance_config_db = get_config_db()\n",
    "cluster_config_db = get_cluster_config_db()\n",
    "node_manager = get_node_manager()\n",
    "role_manager = get_role_manager()\n",
    "cluster_manager = get_cluster_manager()\n",
    "private_path = node_manager.private_path"
   ]
  },
  {
   "cell_type": "code",
   "execution_count": 5,
   "id": "f2a8f01f-58ff-4d0f-93c0-525cf80c1f5c",
   "metadata": {},
   "outputs": [
    {
     "data": {
      "text/plain": [
       "{'provider': {'provider_config_id': 'aws-config-us-east-1',\n",
       "  'region': 'us-east-1',\n",
       "  'access_keyfile': 'ec2_access_key.pub',\n",
       "  'secret_access_keyfile': 'ec2_access_key.pem',\n",
       "  'vpc': None,\n",
       "  'url': None,\n",
       "  'provider': 'aws'},\n",
       " 'login': {'login_config_id': 'login-ubuntu',\n",
       "  'user': 'ubuntu',\n",
       "  'keypair_name': 'manuel_key',\n",
       "  'keypair_public_file': 'key.pub',\n",
       "  'keypair_private_file': 'key.pem',\n",
       "  'ssh_port': 22,\n",
       "  'sudo': True,\n",
       "  'sudo_user': 'root'},\n",
       " 'instance': {'instance_config_id': 'type-t2.medium',\n",
       "  'provider': 'aws-config-us-east-1',\n",
       "  'login': 'login-ubuntu',\n",
       "  'flavor': 't2.medium',\n",
       "  'image_id': 'ami-0c4f7023847b90238',\n",
       "  'security_group': 'open-security-group',\n",
       "  'boot_disk_size': 16,\n",
       "  'boot_disk_device': None,\n",
       "  'boot_disk_type': None,\n",
       "  'boot_disk_iops': None,\n",
       "  'boot_disk_snapshot': None,\n",
       "  'placement_group': None,\n",
       "  'price': None,\n",
       "  'timeout': None,\n",
       "  'network_ids': []}}"
      ]
     },
     "execution_count": 5,
     "metadata": {},
     "output_type": "execute_result"
    }
   ],
   "source": [
    "t2_medium_type = instance_config_db.instance_descriptors[\"type-t2.medium\"]\n",
    "asdict(t2_medium_type)"
   ]
  },
  {
   "cell_type": "code",
   "execution_count": 6,
   "id": "2d627dc2-3ea9-42a5-b104-a27c4bfb01b8",
   "metadata": {},
   "outputs": [
    {
     "name": "stdout",
     "output_type": "stream",
     "text": [
      "\u001b[1;35m[WARNING]: provided hosts list is empty, only localhost is available. Note that\u001b[0m\n",
      "\u001b[1;35mthe implicit localhost does not match 'all'\u001b[0m\n",
      "\u001b[0;35m[DEPRECATION WARNING]: amazon.aws.ec2 has been deprecated. The ec2 module is \u001b[0m\n",
      "\u001b[0;35mbased upon a deprecated version of the AWS SDKs and is deprecated in favor of \u001b[0m\n",
      "\u001b[0;35mthe ec2_instance module. Please update your tasks. This feature will be removed\u001b[0m\n",
      "\u001b[0;35m from amazon.aws in version 4.0.0. Deprecation warnings can be disabled by \u001b[0m\n",
      "\u001b[0;35msetting deprecation_warnings=False in ansible.cfg.\u001b[0m\n",
      "\n",
      "PLAY [localhost] ***************************************************************\n",
      "\n",
      "TASK [Starting 2 type-t2.medium instances (timeout 600 seconds)] ***************\n",
      "\u001b[0;35m[DEPRECATION WARNING]: The 'ec2' module has been deprecated and replaced by the\u001b[0m\n",
      "\u001b[0;35m 'ec2_instance' module'. This feature will be removed from amazon.aws in \u001b[0m\n",
      "\u001b[0;35mversion 4.0.0. Deprecation warnings can be disabled by setting \u001b[0m\n",
      "\u001b[0;35mdeprecation_warnings=False in ansible.cfg.\u001b[0m\n",
      "\u001b[0;33mchanged: [localhost]\u001b[0m\n",
      "\n",
      "PLAY RECAP *********************************************************************\n",
      "\u001b[0;33mlocalhost\u001b[0m                  : \u001b[0;32mok=1   \u001b[0m \u001b[0;33mchanged=1   \u001b[0m unreachable=0    failed=0    skipped=0    rescued=0    ignored=0   \n",
      "\u001b[1;35m[WARNING]: provided hosts list is empty, only localhost is available. Note that\u001b[0m\n",
      "\u001b[1;35mthe implicit localhost does not match 'all'\u001b[0m\n",
      "\n",
      "PLAY [localhost] ***************************************************************\n",
      "\n",
      "TASK [Tagging instances] *******************************************************\n",
      "\u001b[0;33mchanged: [localhost] => (item={'id': 'i-026213da539d8bb43', 'name': 'BenjaminBaeza-6eab72bb'})\u001b[0m\n",
      "\u001b[0;33mchanged: [localhost] => (item={'id': 'i-05490e76e02951def', 'name': 'AnnaPort-f7ce04d3'})\u001b[0m\n",
      "\n",
      "PLAY RECAP *********************************************************************\n",
      "\u001b[0;33mlocalhost\u001b[0m                  : \u001b[0;32mok=1   \u001b[0m \u001b[0;33mchanged=1   \u001b[0m unreachable=0    failed=0    skipped=0    rescued=0    ignored=0   \n",
      "Nodes 6eab72bb4d2a43ef9b695cd0a1aeed2e, f7ce04d3357f42d995568131fd107745 were started!\n"
     ]
    }
   ],
   "source": [
    "node_ids = node_manager.start_node(t2_medium_type, count=2)\n",
    "print(f\"Nodes {', '.join(node_ids)} were started!\")"
   ]
  },
  {
   "cell_type": "code",
   "execution_count": 7,
   "id": "f4c10776-09d9-4873-b1be-c731fdd7e54f",
   "metadata": {},
   "outputs": [
    {
     "name": "stdout",
     "output_type": "stream",
     "text": [
      "6eab72bb4d2a43ef9b695cd0a1aeed2e --> alive.\n",
      "f7ce04d3357f42d995568131fd107745 --> alive.\n"
     ]
    }
   ],
   "source": [
    "alive_nodes = node_manager.is_alive(node_ids)\n",
    "for node_id, alive_flag in alive_nodes.items():\n",
    "    alive_str = 'alive' if alive_flag == True else 'not alive'\n",
    "    print(f\"{node_id} --> {alive_str}.\")"
   ]
  },
  {
   "cell_type": "code",
   "execution_count": 8,
   "id": "47048308-820f-4861-9dd9-8f37ebd7c30e",
   "metadata": {},
   "outputs": [
    {
     "name": "stdout",
     "output_type": "stream",
     "text": [
      "\n",
      "PLAY [Acao de setup] ***********************************************************\n",
      "\n",
      "TASK [Gathering Facts] *********************************************************\n",
      "\u001b[0;32mok: [6eab72bb4d2a43ef9b695cd0a1aeed2e]\u001b[0m\n",
      "\u001b[0;32mok: [f7ce04d3357f42d995568131fd107745]\u001b[0m\n",
      "\n",
      "TASK [Task 1: Lista as variáveis recebidas] ************************************\n",
      "\u001b[0;32mok: [6eab72bb4d2a43ef9b695cd0a1aeed2e] => {\u001b[0m\n",
      "\u001b[0;32m    \"msg\": \"Variaveis: efs_host: 172.31.15.9; efs_mount_point: /home/ubuntu/efs/; user_dir: /home/ubuntu/efs/mo833-2022-manuel/\"\u001b[0m\n",
      "\u001b[0;32m}\u001b[0m\n",
      "\u001b[0;32mok: [f7ce04d3357f42d995568131fd107745] => {\u001b[0m\n",
      "\u001b[0;32m    \"msg\": \"Variaveis: efs_host: 172.31.15.9; efs_mount_point: /home/ubuntu/efs/; user_dir: /home/ubuntu/efs/mo833-2022-manuel/\"\u001b[0m\n",
      "\u001b[0;32m}\u001b[0m\n",
      "\n",
      "TASK [Task 2: Cria o grupo docker] *********************************************\n",
      "\u001b[0;33mchanged: [6eab72bb4d2a43ef9b695cd0a1aeed2e]\u001b[0m\n",
      "\u001b[0;33mchanged: [f7ce04d3357f42d995568131fd107745]\u001b[0m\n",
      "\n",
      "TASK [Task 3: Adicionar usuario ubuntu ao grupo docker] ************************\n",
      "\u001b[0;33mchanged: [f7ce04d3357f42d995568131fd107745]\u001b[0m\n",
      "\u001b[0;33mchanged: [6eab72bb4d2a43ef9b695cd0a1aeed2e]\u001b[0m\n",
      "\n",
      "TASK [Task 4: Reinicia a conexão ssh para que a alterações de grupos tenham efeito] ***\n",
      "\n",
      "TASK [Task 4: Reinicia a conexão ssh para que a alterações de grupos tenham efeito] ***\n",
      "\n",
      "TASK [Task 5: Instalar dependências] *******************************************\n",
      "\u001b[0;33mchanged: [6eab72bb4d2a43ef9b695cd0a1aeed2e]\u001b[0m\n",
      "\u001b[0;33mchanged: [f7ce04d3357f42d995568131fd107745]\u001b[0m\n",
      "\n",
      "TASK [Task 6 : Criar diretório EFS] ********************************************\n",
      "\u001b[0;33mchanged: [f7ce04d3357f42d995568131fd107745]\u001b[0m\n",
      "\u001b[0;33mchanged: [6eab72bb4d2a43ef9b695cd0a1aeed2e]\u001b[0m\n",
      "\n",
      "TASK [Task 7: Montar sistema de arquivos compartilhado EFS] ********************\n",
      "\u001b[0;33mchanged: [6eab72bb4d2a43ef9b695cd0a1aeed2e]\u001b[0m\n",
      "\u001b[0;33mchanged: [f7ce04d3357f42d995568131fd107745]\u001b[0m\n",
      "\n",
      "TASK [Task 8: Build Imagem Docker] *********************************************\n",
      "\u001b[0;33mchanged: [f7ce04d3357f42d995568131fd107745]\u001b[0m\n",
      "\u001b[0;33mchanged: [6eab72bb4d2a43ef9b695cd0a1aeed2e]\u001b[0m\n",
      "\n",
      "TASK [Task 9: Criar diretório de resultados] ***********************************\n",
      "\u001b[0;32mok: [6eab72bb4d2a43ef9b695cd0a1aeed2e]\u001b[0m\n",
      "\n",
      "PLAY RECAP *********************************************************************\n",
      "\u001b[0;33m6eab72bb4d2a43ef9b695cd0a1aeed2e\u001b[0m : \u001b[0;32mok=9   \u001b[0m \u001b[0;33mchanged=6   \u001b[0m unreachable=0    failed=0    skipped=0    rescued=0    ignored=0   \n",
      "\u001b[0;33mf7ce04d3357f42d995568131fd107745\u001b[0m : \u001b[0;32mok=8   \u001b[0m \u001b[0;33mchanged=6   \u001b[0m unreachable=0    failed=0    skipped=0    rescued=0    ignored=0   \n",
      "O papel dcgan foram adicionados aos nós 6eab72bb4d2a43ef9b695cd0a1aeed2e, f7ce04d3357f42d995568131fd107745\n"
     ]
    }
   ],
   "source": [
    "# Variaveis espeficica por nó\n",
    "node_vars={\n",
    "    node_ids[0]: {\n",
    "        \"node_rank\": 0\n",
    "    }, \n",
    "    node_ids[1]: {\n",
    "        \"node_rank\": 1\n",
    "    }\n",
    "}\n",
    "\n",
    "# Variaveis passadas para a ação setup\n",
    "extra_args = {\n",
    "    \"efs_host\": \"172.31.15.9\",\n",
    "    \"efs_mount_point\": \"/home/ubuntu/efs/\",\n",
    "    \"user_dir\": f\"/home/ubuntu/efs/{mo833_nome_do_usuario}/\"\n",
    "}\n",
    "\n",
    "\n",
    "nodes_added_to_role = role_manager.add_role(\n",
    "    role_name=\"dcgan\", \n",
    "    hosts_node_map=node_ids,\n",
    "    node_vars=node_vars,\n",
    "    extra_args=extra_args,\n",
    ")\n",
    "\n",
    "print(f\"O papel dcgan foram adicionados aos nós {', '.join(nodes_added_to_role)}\")"
   ]
  },
  {
   "cell_type": "code",
   "execution_count": 9,
   "id": "9daef887-b868-4822-9162-0e05cd7f13e3",
   "metadata": {},
   "outputs": [
    {
     "name": "stdout",
     "output_type": "stream",
     "text": [
      "\n",
      "PLAY [Run Play] ****************************************************************\n",
      "\n",
      "TASK [Task 1: Lista as variáveis recebidas] ************************************\n",
      "\u001b[0;32mok: [6eab72bb4d2a43ef9b695cd0a1aeed2e] => {\u001b[0m\n",
      "\u001b[0;32m    \"msg\": \"Variaveis: efs_mount_point: /home/ubuntu/efs/; user_dir: /home/ubuntu/efs/mo833-2022-manuel/; cifar_data_dir: /home/ubuntu/efs/data/cifar10/; master_hostname: 6eab72bb4d2a43ef9b695cd0a1aeed2e; master_addr: 52.90.32.127\"\u001b[0m\n",
      "\u001b[0;32m}\u001b[0m\n",
      "\u001b[0;32mok: [f7ce04d3357f42d995568131fd107745] => {\u001b[0m\n",
      "\u001b[0;32m    \"msg\": \"Variaveis: efs_mount_point: /home/ubuntu/efs/; user_dir: /home/ubuntu/efs/mo833-2022-manuel/; cifar_data_dir: /home/ubuntu/efs/data/cifar10/; master_hostname: 6eab72bb4d2a43ef9b695cd0a1aeed2e; master_addr: 52.90.32.127\"\u001b[0m\n",
      "\u001b[0;32m}\u001b[0m\n",
      "\n",
      "TASK [Task 2: Executar Aplicação DCGAN] ****************************************\n",
      "\u001b[0;33mchanged: [f7ce04d3357f42d995568131fd107745]\u001b[0m\n",
      "\u001b[0;33mchanged: [6eab72bb4d2a43ef9b695cd0a1aeed2e]\u001b[0m\n",
      "\n",
      "PLAY RECAP *********************************************************************\n",
      "\u001b[0;33m6eab72bb4d2a43ef9b695cd0a1aeed2e\u001b[0m : \u001b[0;32mok=2   \u001b[0m \u001b[0;33mchanged=1   \u001b[0m unreachable=0    failed=0    skipped=0    rescued=0    ignored=0   \n",
      "\u001b[0;33mf7ce04d3357f42d995568131fd107745\u001b[0m : \u001b[0;32mok=2   \u001b[0m \u001b[0;33mchanged=1   \u001b[0m unreachable=0    failed=0    skipped=0    rescued=0    ignored=0   \n",
      "Playbook executou bem? True\n"
     ]
    }
   ],
   "source": [
    "# Variaveis espeficica por nó\n",
    "node_vars={\n",
    "    node_ids[0]: {\n",
    "        \"node_rank\": 0\n",
    "    }, \n",
    "    node_ids[1]: {\n",
    "        \"node_rank\": 1\n",
    "    }\n",
    "}\n",
    "\n",
    "# Variaveis passadas para a ação setup\n",
    "extra_args = {\n",
    "    \"efs_mount_point\": \"/home/ubuntu/efs/\",\n",
    "    \"user_dir\": f\"/home/ubuntu/efs/{mo833_nome_do_usuario}/\",\n",
    "    \"cifar_data_dir\": \"/home/ubuntu/efs/data/cifar10/\",\n",
    "    \"master_hostname\": node_ids[0],\n",
    "}\n",
    "\n",
    "res = role_manager.perform_action(\n",
    "    role_name=\"dcgan\", \n",
    "    action_name=\"run\", \n",
    "    hosts_node_map=node_ids, \n",
    "    node_vars=node_vars,\n",
    "    extra_args=extra_args\n",
    ")\n",
    "\n",
    "print(f\"Playbook executou bem? {res.ok}\")"
   ]
  },
  {
   "cell_type": "code",
   "execution_count": 15,
   "id": "8aa0a0dc-df7c-4447-a5db-6c7356441e47",
   "metadata": {},
   "outputs": [
    {
     "name": "stdout",
     "output_type": "stream",
     "text": [
      "\n",
      "PLAY [Acao de resultados] ******************************************************\n",
      "\n",
      "TASK [Gathering Facts] *********************************************************\n",
      "\u001b[0;32mok: [6eab72bb4d2a43ef9b695cd0a1aeed2e]\u001b[0m\n",
      "\u001b[0;32mok: [f7ce04d3357f42d995568131fd107745]\u001b[0m\n",
      "\n",
      "TASK [Task 1: Lista as variáveis recebidas] ************************************\n",
      "\u001b[0;32mok: [6eab72bb4d2a43ef9b695cd0a1aeed2e] => {\u001b[0m\n",
      "\u001b[0;32m    \"msg\": \"Variaveis: results_dir: /home/tanarus/Documentos/Mestrado/Unicamp/MO833/mo833-atividade9/resultados; user_dir: /home/ubuntu/efs/mo833-2022-manuel/\"\u001b[0m\n",
      "\u001b[0;32m}\u001b[0m\n",
      "\u001b[0;32mok: [f7ce04d3357f42d995568131fd107745] => {\u001b[0m\n",
      "\u001b[0;32m    \"msg\": \"Variaveis: results_dir: /home/tanarus/Documentos/Mestrado/Unicamp/MO833/mo833-atividade9/resultados; user_dir: /home/ubuntu/efs/mo833-2022-manuel/\"\u001b[0m\n",
      "\u001b[0;32m}\u001b[0m\n",
      "\n",
      "TASK [Task 2: Copia os arquivos output-*.txt] **********************************\n",
      "\u001b[0;33mchanged: [f7ce04d3357f42d995568131fd107745]\u001b[0m\n",
      "\u001b[0;33mchanged: [6eab72bb4d2a43ef9b695cd0a1aeed2e]\u001b[0m\n",
      "\n",
      "PLAY RECAP *********************************************************************\n",
      "\u001b[0;33m6eab72bb4d2a43ef9b695cd0a1aeed2e\u001b[0m : \u001b[0;32mok=3   \u001b[0m \u001b[0;33mchanged=1   \u001b[0m unreachable=0    failed=0    skipped=0    rescued=0    ignored=0   \n",
      "\u001b[0;33mf7ce04d3357f42d995568131fd107745\u001b[0m : \u001b[0;32mok=3   \u001b[0m \u001b[0;33mchanged=1   \u001b[0m unreachable=0    failed=0    skipped=0    rescued=0    ignored=0   \n",
      "Playbook executou bem? True\n"
     ]
    }
   ],
   "source": [
    "# Variaveis espeficica por nó\n",
    "node_vars={\n",
    "    node_ids[0]: {\n",
    "        \"node_rank\": 0\n",
    "    }, \n",
    "    node_ids[1]: {\n",
    "        \"node_rank\": 1\n",
    "    }\n",
    "}\n",
    "\n",
    "# Variaveis passadas para a ação setup\n",
    "extra_args = {\n",
    "    \"user_dir\": f\"/home/ubuntu/efs/{mo833_nome_do_usuario}/\",\n",
    "    \"results_dir\": f\"{current_dir}/resultados\"\n",
    "}\n",
    "\n",
    "\n",
    "res = role_manager.perform_action(\n",
    "    role_name=\"dcgan\", \n",
    "    action_name=\"results\", \n",
    "    hosts_node_map=node_ids, \n",
    "    node_vars=node_vars,\n",
    "    extra_args=extra_args,\n",
    "    quiet=False\n",
    ")\n",
    "\n",
    "print(f\"Playbook executou bem? {res.ok}\")"
   ]
  },
  {
   "cell_type": "code",
   "execution_count": 20,
   "id": "f98bd376-66a5-4016-a9d4-04e0eabd768f",
   "metadata": {},
   "outputs": [
    {
     "name": "stdout",
     "output_type": "stream",
     "text": [
      "\u001b[1;35m[WARNING]: provided hosts list is empty, only localhost is available. Note that\u001b[0m\n",
      "\u001b[1;35mthe implicit localhost does not match 'all'\u001b[0m\n",
      "\u001b[0;35m[DEPRECATION WARNING]: amazon.aws.ec2 has been deprecated. The ec2 module is \u001b[0m\n",
      "\u001b[0;35mbased upon a deprecated version of the AWS SDKs and is deprecated in favor of \u001b[0m\n",
      "\u001b[0;35mthe ec2_instance module. Please update your tasks. This feature will be removed\u001b[0m\n",
      "\u001b[0;35m from amazon.aws in version 4.0.0. Deprecation warnings can be disabled by \u001b[0m\n",
      "\u001b[0;35msetting deprecation_warnings=False in ansible.cfg.\u001b[0m\n",
      "\n",
      "PLAY [localhost] ***************************************************************\n",
      "\n",
      "TASK [Stopping nodes ChristineBowen, RobertRuiz] *******************************\n",
      "\u001b[0;35m[DEPRECATION WARNING]: The 'ec2' module has been deprecated and replaced by the\u001b[0m\n",
      "\u001b[0;35m 'ec2_instance' module'. This feature will be removed from amazon.aws in \u001b[0m\n",
      "\u001b[0;35mversion 4.0.0. Deprecation warnings can be disabled by setting \u001b[0m\n",
      "\u001b[0;35mdeprecation_warnings=False in ansible.cfg.\u001b[0m\n",
      "\u001b[0;33mchanged: [localhost]\u001b[0m\n",
      "\n",
      "PLAY RECAP *********************************************************************\n",
      "\u001b[0;33mlocalhost\u001b[0m                  : \u001b[0;32mok=1   \u001b[0m \u001b[0;33mchanged=1   \u001b[0m unreachable=0    failed=0    skipped=0    rescued=0    ignored=0   \n",
      "Stopped nodes: 1a5318d1fa0b45ba9f663fab735896ec, dceeb1b47820480ba9b30dca7f34a5f9\n"
     ]
    }
   ],
   "source": [
    "stopped_nodes = node_manager.stop_nodes(node_ids)\n",
    "print(f\"Stopped nodes: {', '.join(stopped_nodes)}\")"
   ]
  },
  {
   "cell_type": "code",
   "execution_count": null,
   "id": "18532ca7-335c-43fb-a4b5-41ee4e993483",
   "metadata": {},
   "outputs": [],
   "source": []
  }
 ],
 "metadata": {
  "kernelspec": {
   "display_name": "Python 3 (ipykernel)",
   "language": "python",
   "name": "python3"
  },
  "language_info": {
   "codemirror_mode": {
    "name": "ipython",
    "version": 3
   },
   "file_extension": ".py",
   "mimetype": "text/x-python",
   "name": "python",
   "nbconvert_exporter": "python",
   "pygments_lexer": "ipython3",
   "version": "3.9.13"
  }
 },
 "nbformat": 4,
 "nbformat_minor": 5
}
